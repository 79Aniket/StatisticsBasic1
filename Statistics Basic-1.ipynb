{
 "cells": [
  {
   "cell_type": "markdown",
   "id": "b9300c31-4193-407b-891a-5dbfe053380b",
   "metadata": {},
   "source": [
    "### Q1. What is Statistics?"
   ]
  },
  {
   "cell_type": "markdown",
   "id": "db0e0794-3b43-4a88-ae1b-7b03a7d38190",
   "metadata": {},
   "source": [
    "statistics is the  science of collecting organizing and analyzing data"
   ]
  },
  {
   "cell_type": "markdown",
   "id": "6e25bddc-00c5-467e-9abd-fc9e8236eedb",
   "metadata": {},
   "source": [
    "## Q2. Define the different types of statistics and give an example of when each type might be used."
   ]
  },
  {
   "cell_type": "markdown",
   "id": "dd382447-c410-41a3-a65a-871e61fd625d",
   "metadata": {},
   "source": [
    "There are two tpyes of statistics \n",
    "first = Descriptive statistics (use= A company might use descriptive statistics to summarize the sales data for the past year. This information could be used to identify trends in sales and to make decisions about future marketing strategies)\n",
    "\n",
    "\n",
    "second = Inferential statistics ( use= A political pollster might use inferential statistics to estimate the percentage of voters who will support a particular candidate in an upcoming election. The pollster would collect data on the opinions of a sample of voters and use inferential statistics to estimate the percentage of all voters who would support the candidate)"
   ]
  },
  {
   "cell_type": "markdown",
   "id": "9e4cc4d3-2506-435e-a96b-d4619f105222",
   "metadata": {},
   "source": [
    "## Q3. What are the different types of data and how do they differ from each other? Provide an example of\n",
    "## each type of data."
   ]
  },
  {
   "cell_type": "markdown",
   "id": "6b8e0d1d-8e80-489b-a996-a3d58e27503b",
   "metadata": {},
   "source": [
    "## There are two types of data \n",
    "## Quantitative data and Qualitative data \n",
    "## Quantitative data are two types , Discrete and continuous\n",
    "## Qualitative data are two tpyes, Nominal and  Ordinal \n",
    "\n",
    "## example of Discrete = no-of bank accout, no-of children in a family\n",
    "## example of Continuous = (any value) weight,speed, height\n",
    "## example of Nominal = (gender) male/female, blood group, pincode\n",
    "## example of Ordinal = (customer feedback) good, bad, better"
   ]
  },
  {
   "cell_type": "code",
   "execution_count": null,
   "id": "19d6ff62-aac9-4343-abc9-471f6b6952ef",
   "metadata": {},
   "outputs": [],
   "source": []
  },
  {
   "cell_type": "markdown",
   "id": "684bdc5e-b8e0-4704-b81a-af1e553d4dcc",
   "metadata": {},
   "source": [
    "###  Q4. Categorise the following datasets with respect to quantitative and qualitative data types:\n"
   ]
  },
  {
   "cell_type": "markdown",
   "id": "9ac89863-cdcc-4648-ae3f-d77427fe8cc6",
   "metadata": {},
   "source": [
    "### (i) Grading in exam: A+, A, B+, B, C+, C, D, E = Qualitative data type\n",
    "### (ii) Colour of mangoes: yellow, green, orange, red = Qualitative data type\n",
    "### (iii) Height data of a class: [178.9, 179, 179.5, 176, 177.2, 178.3, 175.8,...] =  Quantitative  data type\n",
    "### (iv) Number of mangoes exported by a farm: [500, 600, 478, 672, ...] = Quantitative  data type\n"
   ]
  },
  {
   "cell_type": "code",
   "execution_count": null,
   "id": "92fb2dd4-c132-441c-9b8b-d7649cb4acf9",
   "metadata": {},
   "outputs": [],
   "source": []
  },
  {
   "cell_type": "markdown",
   "id": "c89b4892-738f-44da-87e6-94898f043308",
   "metadata": {},
   "source": [
    "##### Q5. Explain the concept of levels of measurement and give an example of a variable for each level."
   ]
  },
  {
   "cell_type": "markdown",
   "id": "bdf3adbb-c66d-468e-90e8-0e89c4db9b9d",
   "metadata": {},
   "source": [
    "### Levels of measurement, also called scales of measurement, tell you how precisely variables are recorded. In scientific research, a variable is anything that can take on different values across your data set (e.g., height or test scores) there are 4 types of levels 1. Nominal level 2.Ordinal level 3.Interval level 4.Ratio level\n",
    "\n",
    "### Examples:\n",
    " 1. Nominal level = City of birth, Gender, Ethnicity, Car brands\n",
    "### 2.Ordinal level =  Top 5 Olympic medallists, Language ability (e.g., beginner, intermediate, fluent)\n",
    "### 3.Interval level = Test scores (e.g., IQ or exams), Personality inventories\n",
    "### 4.Ratio level = Height, Age, Weight"
   ]
  },
  {
   "cell_type": "code",
   "execution_count": null,
   "id": "ec992056-9100-4d19-ba6c-607597c0f0ff",
   "metadata": {},
   "outputs": [],
   "source": []
  },
  {
   "cell_type": "markdown",
   "id": "90ddfa25-2527-40dc-aea5-4379c94ac18d",
   "metadata": {},
   "source": [
    " #### Q7. How nominal data type is different from ordinal data type."
   ]
  },
  {
   "cell_type": "markdown",
   "id": "74f6eac9-a3a5-4c09-a98f-ea1cbeae0e5b",
   "metadata": {},
   "source": [
    "#### Nominal Data is classified without any intrinsic ordering or rank.\n",
    "#### Ordinal Data has some predetermined or natural order. \n",
    "#### Nominal data is qualitative or categorical data. \n",
    "####  Ordinal data is considered “in-between” qualitative and quantitative data."
   ]
  },
  {
   "cell_type": "code",
   "execution_count": null,
   "id": "2db38361-2ff2-43d0-ba16-aa284eecdd0b",
   "metadata": {},
   "outputs": [],
   "source": []
  },
  {
   "cell_type": "markdown",
   "id": "e461d9b0-b47f-4104-bbb8-df09e4ccce0a",
   "metadata": {},
   "source": [
    "### Q9. Describe the difference between descriptive and inferential statistics. Give an example of each\n",
    "### type of statistics and explain how they are used."
   ]
  },
  {
   "cell_type": "markdown",
   "id": "f23ccb75-b46b-4491-9e9f-0961db2a3774",
   "metadata": {},
   "source": [
    "### Descriptive statistics =  measure of cental tendency[mean,median,mode], measure of disperstion [variance of std], Diffant type of distribution of data [ histogram, pdf,pmf]\n",
    "### Inferential statistics = Z- test,T-test, cmi qouarf [hypothoris tuting, h0,h1,P value,significance value ,sample data, population data"
   ]
  },
  {
   "cell_type": "code",
   "execution_count": null,
   "id": "d95e2af0-0e45-4fde-95af-3c587ce73a76",
   "metadata": {},
   "outputs": [],
   "source": []
  },
  {
   "cell_type": "markdown",
   "id": "74f4ab8f-7d7d-429e-a163-34e60c841b0e",
   "metadata": {},
   "source": []
  },
  {
   "cell_type": "code",
   "execution_count": null,
   "id": "38ef9044-f83f-4075-993e-51621e2aaf8b",
   "metadata": {},
   "outputs": [],
   "source": []
  }
 ],
 "metadata": {
  "kernelspec": {
   "display_name": "Python 3 (ipykernel)",
   "language": "python",
   "name": "python3"
  },
  "language_info": {
   "codemirror_mode": {
    "name": "ipython",
    "version": 3
   },
   "file_extension": ".py",
   "mimetype": "text/x-python",
   "name": "python",
   "nbconvert_exporter": "python",
   "pygments_lexer": "ipython3",
   "version": "3.10.8"
  }
 },
 "nbformat": 4,
 "nbformat_minor": 5
}
